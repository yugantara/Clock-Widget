{
 "cells": [
  {
   "cell_type": "code",
   "execution_count": 1,
   "metadata": {},
   "outputs": [],
   "source": [
    "import tkinter\n",
    "from tkinter import*\n",
    "from time import strftime\n",
    "\n",
    "root = tkinter.Tk()\n",
    "root.title(\"CLOCK WIDGET BY YUGANTARA!\")\n",
    "\n",
    "def time():\n",
    "    t = strftime('%H:%M:%S %p')\n",
    "    label.config(text = t)\n",
    "    label.after(1000,time)\n",
    "\n",
    "label = Label(root, font=(\"arial\", 65), background=\"black\", foreground=\"#68f2de\")\n",
    "label.pack(anchor='center')\n",
    "time()\n",
    "\n",
    "root.mainloop()"
   ]
  }
 ],
 "metadata": {
  "interpreter": {
   "hash": "a5ff8bd412277661f1de1d86e35918412ea041cf137c6afab37adfce3e67ae0c"
  },
  "kernelspec": {
   "display_name": "Python 3.8.5 32-bit",
   "language": "python",
   "name": "python3"
  },
  "language_info": {
   "codemirror_mode": {
    "name": "ipython",
    "version": 3
   },
   "file_extension": ".py",
   "mimetype": "text/x-python",
   "name": "python",
   "nbconvert_exporter": "python",
   "pygments_lexer": "ipython3",
   "version": "3.8.5"
  },
  "orig_nbformat": 4
 },
 "nbformat": 4,
 "nbformat_minor": 2
}
